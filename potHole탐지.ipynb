{
  "nbformat": 4,
  "nbformat_minor": 0,
  "metadata": {
    "colab": {
      "private_outputs": true,
      "provenance": [],
      "machine_shape": "hm",
      "gpuType": "L4",
      "include_colab_link": true
    },
    "kernelspec": {
      "name": "python3",
      "display_name": "Python 3"
    },
    "language_info": {
      "name": "python"
    },
    "accelerator": "GPU"
  },
  "cells": [
    {
      "cell_type": "markdown",
      "metadata": {
        "id": "view-in-github",
        "colab_type": "text"
      },
      "source": [
        "<a href=\"https://colab.research.google.com/github/joheeeeeeeee/AI-/blob/main/potHole%ED%83%90%EC%A7%80.ipynb\" target=\"_parent\"><img src=\"https://colab.research.google.com/assets/colab-badge.svg\" alt=\"Open In Colab\"/></a>"
      ]
    },
    {
      "cell_type": "markdown",
      "source": [
        "# 포트홀 탐지 모델 만들기\n",
        "## 포트홀이란\n",
        "   1. 포트홀은 도로에 만들어진 크랙의 종류로 깊게 패인 웅덩이를 말한다.\n",
        "   2. 포트홀을 탐지 하는 목적은\n",
        "      -. 자율 주행 자동차의 안전을 위한 회피 운행\n",
        "      -. 도로 보수를 위한 위치 탐색"
      ],
      "metadata": {
        "id": "3LWgyWfYcfK_"
      }
    },
    {
      "cell_type": "markdown",
      "source": [
        "## 응용 SW를 개발하는 방법\n",
        "    1. What ? : 위의 정의와 같이 무엇을 할 것인지를 정한다.\n",
        "    2. DataSet을 준비 한다. : 학습을 위한 annotation된 dataSet를 준비 한다.\n",
        "    3. 적합한 Pre-Trained된 모델을 구한다. : 이미지 관련서 우리는 YOLO에 집중한다.\n",
        "    4. Fine-Tunning : 2에서 준비한 dataSet을 이용하여 custom Model을 만든다.\n",
        "    5. 응용 SW를 제작한다\n",
        "        -. webAPP : 실습한 TM을 이용한 JS를 기억한다.\n",
        "        -. nativeAPP : python과 pyQT5를 이용한 배포가능한 setup.exe까지 완성한것을 기억한다."
      ],
      "metadata": {
        "id": "GsNJOg3pc0aG"
      }
    },
    {
      "cell_type": "markdown",
      "source": [
        "## YOLO 클로닝"
      ],
      "metadata": {
        "id": "EarlyqkQdmjv"
      }
    },
    {
      "cell_type": "code",
      "execution_count": null,
      "metadata": {
        "id": "wXKYhGZIcRZr"
      },
      "outputs": [],
      "source": [
        "# 현재 폴더\n",
        "%pwd\n",
        "# 위치 이동을 강제로 해야 한다면\n",
        "%cd /content/\n",
        "%pwd"
      ]
    },
    {
      "cell_type": "code",
      "source": [
        "# github에서 YOLO 가져오기 https://github.com/ultralytics/yolov5\n",
        "!git clone https://github.com/ultralytics/yolov5"
      ],
      "metadata": {
        "id": "geKKf-otd6xH"
      },
      "execution_count": null,
      "outputs": []
    },
    {
      "cell_type": "markdown",
      "source": [
        "## 작업폴더로 이동\n"
      ],
      "metadata": {
        "id": "2MfKhZmXe49G"
      }
    },
    {
      "cell_type": "code",
      "source": [
        "%cd yolov5"
      ],
      "metadata": {
        "id": "7lHdTGg-e2aO"
      },
      "execution_count": null,
      "outputs": []
    },
    {
      "cell_type": "code",
      "source": [
        "# dataSet를 가져올 폴더를 만듬\n",
        "%mkdir /content/yolov5/pothole\n",
        "%cd /content/yolov5/pothole"
      ],
      "metadata": {
        "id": "X-ADTJRGfLqf"
      },
      "execution_count": null,
      "outputs": []
    },
    {
      "cell_type": "markdown",
      "source": [
        "## dataSet를 가져 오기\n",
        "### 인공지능은 무조건 데이터이다\n",
        "양질의 데이터를 구하는것이 승패를 좌우한다\n",
        "### 데이터세트를 구할수있는곳은\n",
        "1. roboflow.com 에서는 모델과 코드를 함께제공\n",
        "2. kaggle\n",
        "3. aihub.go.kr등or kr일수도있음 기억이 가물*2\n",
        "직접 구글링을 통해서 다양한 데아터 세트를 아용할줄알면좋아요\n",
        "특히 aihub.or.kr에서는 데이터댐사업으ㄹ 통해 구축된 세트를 사용할수있음 경우에따라서 데이터바우처를 이용해서 풀데이터세트를 받아올수있음"
      ],
      "metadata": {
        "id": "3NYUnGaLfYud"
      }
    },
    {
      "cell_type": "code",
      "source": [
        "!curl -L \"https://public.roboflow.com/ds/AZZeoZCGOT?key=XFPYdCUU9Z\" > roboflow.zip; unzip roboflow.zip; rm roboflow.zip"
      ],
      "metadata": {
        "id": "Knz1Kf1GiMmn"
      },
      "execution_count": null,
      "outputs": []
    },
    {
      "cell_type": "code",
      "source": [
        "%pwd"
      ],
      "metadata": {
        "id": "XnRdDw0hibtm"
      },
      "execution_count": null,
      "outputs": []
    },
    {
      "cell_type": "markdown",
      "source": [
        "## dataSet의 구성 내용을 확인"
      ],
      "metadata": {
        "id": "or4egYPSieff"
      }
    },
    {
      "cell_type": "code",
      "source": [
        "from glob import glob\n",
        "train_img_list = glob('/content/yolov5/pothole/train/images/*.jpg')\n",
        "test_img_list = glob('/content/yolov5/pothole/test/images/*.jpg')\n",
        "valid_img_list = glob('/content/yolov5/pothole/valid/images/*.jpg')\n",
        "print(len(train_img_list), len(test_img_list), len(valid_img_list))"
      ],
      "metadata": {
        "id": "X6i29sPAid8O"
      },
      "execution_count": null,
      "outputs": []
    },
    {
      "cell_type": "markdown",
      "source": [
        "\n",
        "`glob` 모듈은 파일 경로를 패턴 매칭하여 파일들의 리스트를 반환해주는 데 사용됩니다. 주로 디렉토리 내의 파일을 다룰 때 유용하게 쓰입니다. 예를 들어, 특정 확장자를 가진 파일을 모두 가져오거나 특정 패턴과 일치하는 파일들을 찾을 때 사용될 수 있습니다. 이를 통해 파일을 다루는 프로그램에서 파일들을 쉽게 처리할 수 있게 됩니다. 이런 기능들을 사용하여 파일 시스템을 탐색하거나 특정 파일들을 처리하는 작업을 할 때 유용하게 활용될 수 있습니다."
      ],
      "metadata": {
        "id": "46EujefEnio_"
      }
    },
    {
      "cell_type": "markdown",
      "source": [
        "## 모델 FineTunning을 시작"
      ],
      "metadata": {
        "id": "nayvCabmjTu2"
      }
    },
    {
      "cell_type": "markdown",
      "source": [
        "## 1. 데이터세트의 위치등을 알려주기 위한 yaml 파일 준비"
      ],
      "metadata": {
        "id": "UnxcnlEytaWw"
      }
    },
    {
      "cell_type": "markdown",
      "source": [
        "### 윗줄에서 만든 list를 txt 파일로 저장한다."
      ],
      "metadata": {
        "id": "fcCZkHLYoW4o"
      }
    },
    {
      "cell_type": "code",
      "source": [
        "import yaml\n",
        "with open('/content/yolov5/pothole/train.txt','w') as f:\n",
        "    f.write('\\n'.join(train_img_list) + '\\n')\n",
        "with open('/content/yolov5/pothole/test.txt','w') as f:\n",
        "    f.write('\\n'.join(test_img_list) + '\\n')\n",
        "with open('/content/yolov5/pothole/val.txt','w') as f:\n",
        "    f.write('\\n'.join(valid_img_list) + '\\n')"
      ],
      "metadata": {
        "id": "L45VtRuin7rH"
      },
      "execution_count": null,
      "outputs": []
    },
    {
      "cell_type": "markdown",
      "source": [
        "`yaml` 모듈은 YAML(YAML Ain't Markup Language) 형식의 데이터를 파이썬 객체로 읽거나 파이썬 객체를 YAML 형식으로 쓰는 데 사용됩니다. YAML은 사람이 읽기 쉽고 쓰기 쉬운 데이터 직렬화 형식으로, 특히 설정 파일이나 데이터 저장 및 전송에 자주 사용됩니다. 예를 들어, YAML 형식의 설정 파일을 파이썬으로 읽어들여서 설정값을 로드하거나, 파이썬 객체를 YAML 형식의 문자열로 변환하여 파일에 저장할 때 사용할 수 있습니다. 이를 통해 데이터를 텍스트 형식으로 효과적으로 저장하고 전달할 수 있습니다."
      ],
      "metadata": {
        "id": "4Tx1IfZsomrY"
      }
    },
    {
      "cell_type": "markdown",
      "source": [
        "### fineTunning중에 자주 사용하는 writetemplate 함수를 정의한다."
      ],
      "metadata": {
        "id": "A0KDZ4VIo2r_"
      }
    },
    {
      "cell_type": "code",
      "source": [
        "from IPython.core.magic import register_line_cell_magic\n",
        "\n",
        "@register_line_cell_magic\n",
        "def writetemplate(line,cell):\n",
        "    with open(line, 'w') as f:\n",
        "        f.write(cell.format(**globals()))"
      ],
      "metadata": {
        "id": "_IfXc_wVo_-f"
      },
      "execution_count": null,
      "outputs": []
    },
    {
      "cell_type": "markdown",
      "source": [
        "이 코드는 IPython 환경에서 사용할 수 있는 사용자 정의 매직 명령어를 등록하는 데 사용됩니다. IPython은 Python 인터프리터의 개선된 버전으로, 사용자가 쉽게 확장하고 사용자 정의 기능을 추가할 수 있도록 하는 환경을 제공합니다.\n",
        "\n",
        "여기서 `@register_line_cell_magic` 데코레이터는 사용자가 정의한 함수를 IPython의 라인 매직이나 셀 매직으로 사용할 수 있도록 만들어줍니다. 이 경우 `writetemplate` 함수가 정의되어 있고, 이 함수는 라인 매직 또는 셀 매직으로 사용될 수 있습니다.\n",
        "\n",
        "`writetemplate` 함수는 두 개의 매개변수 `line`과 `cell`을 받습니다. `line`은 매직 명령어가 호출될 때 입력된 라인에 대한 문자열이고, `cell`은 셀 매직으로 사용될 때 셀 전체에 대한 문자열입니다.\n",
        "\n",
        "이 함수는 `open()` 함수를 사용하여 `line`에 지정된 파일을 쓰기 모드로 엽니다. 그리고 이 파일 객체를 이용하여 `cell`에 있는 문자열을 해당 파일에 씁니다. `{}`을 사용하여 문자열 포맷팅을 수행하는데, `globals()` 함수를 통해 현재 전역 네임스페이스에 있는 변수들을 가져와서 해당 문자열에 적용합니다. 이를 통해 전역 변수들의 값을 템플릿 문자열에 삽입할 수 있습니다.\n",
        "\n",
        "이 코드를 사용하면 IPython 환경에서 파일을 생성하고 내용을 템플릿 형태로 작성할 수 있습니다. 이렇게 작성된 파일은 파일명을 매직 명령어의 인자로 지정하여 생성됩니다."
      ],
      "metadata": {
        "id": "17iF7RSFpMiI"
      }
    },
    {
      "cell_type": "markdown",
      "source": [
        "### FineTunning중에 모델에게 dataSet의 위치를 알려 주기 위한 data.yaml을 만든다"
      ],
      "metadata": {
        "id": "3R-pR5jbplfP"
      }
    },
    {
      "cell_type": "code",
      "source": [
        "%%writetemplate /content/yolov5/pothole/data.yaml\n",
        "\n",
        "train: ./pothole/train/images\n",
        "test: ./pothole/test/images\n",
        "val: ./pothole/valid/images\n",
        "\n",
        "nc: 1\n",
        "names: ['pothole']"
      ],
      "metadata": {
        "id": "tVNZ7uuNpiQX"
      },
      "execution_count": null,
      "outputs": []
    },
    {
      "cell_type": "code",
      "source": [
        "%cat /content/yolov5/pothole/data.yaml"
      ],
      "metadata": {
        "id": "HPCb6M65qHf4"
      },
      "execution_count": null,
      "outputs": []
    },
    {
      "cell_type": "markdown",
      "source": [
        "### 만들어진 data.yaml에서 필요한 변수(nc)를 가져오기"
      ],
      "metadata": {
        "id": "JIPpEUTxqRCI"
      }
    },
    {
      "cell_type": "code",
      "source": [
        "with open('/content/yolov5/pothole/data.yaml','r') as stream:\n",
        "  num_classes = str(yaml.safe_load(stream)['nc'])\n",
        "  print (num_classes)"
      ],
      "metadata": {
        "id": "4MGdAqSyqX3A"
      },
      "execution_count": null,
      "outputs": []
    },
    {
      "cell_type": "markdown",
      "source": [
        "### custom_yolov5s.yaml을 만들기    \n",
        "    1. 원래 pre-trained된yolov5s.yaml이 갖고 있는 내용을 수정해서 만들어야 함.\n",
        "        -. 원본 yolov5s.yaml을 cat으로 프린트 해서\n",
        "        -. 복사한여 사용한다.\n",
        "    2. 원래 있던 yaml 내용중 ,nc 부분만 수정해 준다."
      ],
      "metadata": {
        "id": "yAGeP6fjrFuA"
      }
    },
    {
      "cell_type": "code",
      "source": [
        "%cat /content/yolov5/models/yolov5s.yaml"
      ],
      "metadata": {
        "id": "XSaVdTqhrmFP"
      },
      "execution_count": null,
      "outputs": []
    },
    {
      "cell_type": "markdown",
      "source": [],
      "metadata": {
        "id": "PTszW-4Fbs9R"
      }
    },
    {
      "cell_type": "markdown",
      "source": [
        "### custom_yolov5s.yaml 파일을 만든다."
      ],
      "metadata": {
        "id": "HWmQs5hBr4en"
      }
    },
    {
      "cell_type": "markdown",
      "source": [
        "    * nc : 80 또는 nc : 다른숫자\n",
        "    부분을 앞서 가져온 변수 num_classes로 바꾸어 준다. {num_classes}"
      ],
      "metadata": {
        "id": "VQCGyHKhr_EI"
      }
    },
    {
      "cell_type": "code",
      "source": [
        "%%writetemplate /content/yolov5/models/custom_yolov5s.yaml\n",
        "\n",
        "# Parameters\n",
        "nc: {num_classes} # number of classes\n",
        "depth_multiple: 0.33 # model depth multiple\n",
        "width_multiple: 0.50 # layer channel multiple\n",
        "anchors:\n",
        "  - [10, 13, 16, 30, 33, 23] # P3/8\n",
        "  - [30, 61, 62, 45, 59, 119] # P4/16\n",
        "  - [116, 90, 156, 198, 373, 326] # P5/32\n",
        "\n",
        "# YOLOv5 v6.0 backbone\n",
        "backbone:\n",
        "  # [from, number, module, args]\n",
        "  [\n",
        "    [-1, 1, Conv, [64, 6, 2, 2]], # 0-P1/2\n",
        "    [-1, 1, Conv, [128, 3, 2]], # 1-P2/4\n",
        "    [-1, 3, C3, [128]],\n",
        "    [-1, 1, Conv, [256, 3, 2]], # 3-P3/8\n",
        "    [-1, 6, C3, [256]],\n",
        "    [-1, 1, Conv, [512, 3, 2]], # 5-P4/16\n",
        "    [-1, 9, C3, [512]],\n",
        "    [-1, 1, Conv, [1024, 3, 2]], # 7-P5/32\n",
        "    [-1, 3, C3, [1024]],\n",
        "    [-1, 1, SPPF, [1024, 5]], # 9\n",
        "  ]\n",
        "\n",
        "# YOLOv5 v6.0 head\n",
        "head: [\n",
        "    [-1, 1, Conv, [512, 1, 1]],\n",
        "    [-1, 1, nn.Upsample, [None, 2, \"nearest\"]],\n",
        "    [[-1, 6], 1, Concat, [1]], # cat backbone P4\n",
        "    [-1, 3, C3, [512, False]], # 13\n",
        "\n",
        "    [-1, 1, Conv, [256, 1, 1]],\n",
        "    [-1, 1, nn.Upsample, [None, 2, \"nearest\"]],\n",
        "    [[-1, 4], 1, Concat, [1]], # cat backbone P3\n",
        "    [-1, 3, C3, [256, False]], # 17 (P3/8-small)\n",
        "\n",
        "    [-1, 1, Conv, [256, 3, 2]],\n",
        "    [[-1, 14], 1, Concat, [1]], # cat head P4\n",
        "    [-1, 3, C3, [512, False]], # 20 (P4/16-medium)\n",
        "\n",
        "    [-1, 1, Conv, [512, 3, 2]],\n",
        "    [[-1, 10], 1, Concat, [1]], # cat head P5\n",
        "    [-1, 3, C3, [1024, False]], # 23 (P5/32-large)\n",
        "\n",
        "    [[17, 20, 23], 1, Detect, [nc, anchors]], # Detect(P3, P4, P5)\n",
        "  ]"
      ],
      "metadata": {
        "id": "w2D5UPYwr0YR"
      },
      "execution_count": null,
      "outputs": []
    },
    {
      "cell_type": "markdown",
      "source": [
        "### 최종 만들어진 custom_yolov5s.yaml의 내용중 nc가 수정되었는지 확인\n",
        "nc = num_classes = 1"
      ],
      "metadata": {
        "id": "0_FRz7Jns83w"
      }
    },
    {
      "cell_type": "code",
      "source": [
        "%cat /content/yolov5/models/custom_yolov5s.yaml"
      ],
      "metadata": {
        "id": "p-8fkjb3tMkO"
      },
      "execution_count": null,
      "outputs": []
    },
    {
      "cell_type": "code",
      "source": [],
      "metadata": {
        "id": "4moFUpbFcEpQ"
      },
      "execution_count": null,
      "outputs": []
    },
    {
      "cell_type": "markdown",
      "source": [
        "## 2. 학습 시작"
      ],
      "metadata": {
        "id": "ZBn3zQZVtRXn"
      }
    },
    {
      "cell_type": "markdown",
      "source": [
        "### 학습에 필요한 parameter 지정하기\n",
        "    -. 우리가 사용하는 train.py는 yoloV5 모델을 발표한 사람이 직접 작성한 코드이다.\n",
        "    -. 우리는 1줄의 수정없이 코드를 그대로 사용하여 fine Tunjning을 진행한다.\n",
        "    -. 다만 parameter를 이용해서 작업 방법을 알려준다 **굵은 텍스트**"
      ],
      "metadata": {
        "id": "97h-eYl_ttnY"
      }
    },
    {
      "cell_type": "markdown",
      "metadata": {
        "id": "WhgXiNM3PVRo"
      },
      "source": [
        "\n",
        "* `img`: 입력 이미지 크기 정의\n",
        "* `batch`: 배치 크기 결정\n",
        "* `epochs`: 학습 기간 개수 정의\n",
        "* `data`: yaml 파일 경로\n",
        "* `cfg`: 모델 구성 지정\n",
        "* `weights`: 가중치에 대한 경로 지정\n",
        "* `name`: 결과 이름\n",
        "* `nosave`: 최종 체크포인트만 저장\n",
        "* `cache`: 빠른 학습을 위한 이미지 캐시"
      ]
    },
    {
      "cell_type": "markdown",
      "source": [
        "### 학습을 위해서 폴더 이동하고 시간 기록하기\n",
        "\n"
      ],
      "metadata": {
        "id": "X22GjOYHu5II"
      }
    },
    {
      "cell_type": "code",
      "source": [
        "import time\n",
        "%cd /content/yolov5/\n",
        "%time\n"
      ],
      "metadata": {
        "id": "CBEVXRxYvCFw"
      },
      "execution_count": null,
      "outputs": []
    },
    {
      "cell_type": "markdown",
      "source": [
        "### train.py에 파라메타 전달하고 실행하기"
      ],
      "metadata": {
        "id": "cTyA3Rz7vjBY"
      }
    },
    {
      "cell_type": "code",
      "source": [],
      "metadata": {
        "id": "GbsDeBRgcWOw"
      },
      "execution_count": null,
      "outputs": []
    },
    {
      "cell_type": "code",
      "source": [],
      "metadata": {
        "id": "QgcXT7lrcWLh"
      },
      "execution_count": null,
      "outputs": []
    },
    {
      "cell_type": "markdown",
      "source": [],
      "metadata": {
        "id": "kKb6DeiSdnsq"
      }
    },
    {
      "cell_type": "markdown",
      "source": [
        "### 아래 코드를 실행중 래러가 발생 할 수 있어요\n",
        "    1. 원인은 ultralytics의 gitpython 모듈이 설치가 안되어\n",
        "    2. 자동 설치 하고 다시 restart 되면서\n",
        "    3, /content/yolov5/pothole/train/labels.cache  가 만들어졌기 때문\n",
        "    4. 이 파일을 제거 한후\n",
        "    5. 아래 코드를 재 실행 하면 됩니다."
      ],
      "metadata": {
        "id": "pYEd_f1S2aLq"
      }
    },
    {
      "cell_type": "code",
      "source": [
        "%%time\n",
        "%cd /content/yolov5/\n",
        "!python train.py --img 640 --batch 16 --epochs 50 --data ./pothole/data.yaml --cfg ./models/custom_yolov5s.yaml --weights '' --name pothole_result  --cache"
      ],
      "metadata": {
        "id": "TDct4J4Nyh86"
      },
      "execution_count": null,
      "outputs": []
    },
    {
      "cell_type": "markdown",
      "source": [
        "### 결과 확인\n",
        "    1. 먼저 최종 결과를 확인하면 다음과 같다.\n",
        "    custom_YOLOv5s summary: 157 layers, 7012822 parameters, 0 gradients, 15.8 GFLOPs\n",
        "                 Class     Images  Instances          P          R      mAP50   mAP50-95: 100% 5/5 [00:02<00:00,  2.33it/s]\n",
        "                   all        133        330      0.588      0.482      0.524      0.249\n",
        "Results saved to runs/train/pothole_result2\n",
        "CPU times: user 3.18 s, sys: 473 ms, total: 3.65 s\n",
        "Wall time: 5min 1s\n",
        "    2. 성적이 매우 좋지 않은것을 볼수 있다. mAP가 0.5?\n",
        "    3. epoch,를 더 했어야 한다.\n",
        "    "
      ],
      "metadata": {
        "id": "M535OQVv4OxZ"
      }
    },
    {
      "cell_type": "markdown",
      "source": [
        "2. tensorboard를 이용한 확인"
      ],
      "metadata": {
        "id": "mQVuZrxX5RLi"
      }
    },
    {
      "cell_type": "code",
      "source": [
        "%load_ext tensorboard\n",
        "%tensorboard --logdir runs"
      ],
      "metadata": {
        "id": "5Qa9CgpG5VuR"
      },
      "execution_count": null,
      "outputs": []
    },
    {
      "cell_type": "markdown",
      "source": [
        "    3. 학습 과정중에 validation data를 이용하여 스스로 검증한 결과를 이미지로 출려한 내용을 확인 할 수 있읍니다."
      ],
      "metadata": {
        "id": "jCwUZeBN6CGq"
      }
    },
    {
      "cell_type": "code",
      "source": [
        "# train을 실행 할때마다 폴더가 생기므로 !ls /content/yolov5/runs/train/pothole_results/를 아래와 같이 수정해주었다 (경우에 따라 다르므로 확인 필요함)\n",
        "!ls /content/yolov5/runs/train/pothole_result2"
      ],
      "metadata": {
        "id": "FtaS1KpQ6NnA"
      },
      "execution_count": null,
      "outputs": []
    },
    {
      "cell_type": "markdown",
      "source": [
        "### 검증"
      ],
      "metadata": {
        "id": "AZhCrHeg8qvr"
      }
    },
    {
      "cell_type": "markdown",
      "source": [
        "### 실제로 검증 과정은 앞서 확인한 텐서 보드의 내용과 동일하다."
      ],
      "metadata": {
        "id": "dwCFPo9e9Zm5"
      }
    },
    {
      "cell_type": "markdown",
      "source": [
        "    1. 가중치 파일은 우리가 파인튜닝한 것을 사용한다.\n",
        "    2. /content/yolov5/runs/train/pothole_result2/weights/best.pt 는 학습 과정중 가장 성적이 좋은것이다.\n",
        "    "
      ],
      "metadata": {
        "id": "KAnNlbYW9DlR"
      }
    },
    {
      "cell_type": "code",
      "source": [
        "!python val.py --weights /content/yolov5/runs/train/pothole_result2/weights/best.pt --data /content/yolov5/pothole/data.yaml --img 640 --iou 0.65 --half"
      ],
      "metadata": {
        "id": "_T65powq8tQR"
      },
      "execution_count": null,
      "outputs": []
    },
    {
      "cell_type": "markdown",
      "source": [
        "### 추론 (Inference)\n",
        "    1. 이제는 실제 사용하기 위해서 시뮬레이션을 시작\n",
        "    2. test 데이터를 이용한다.\n",
        "    3. 앞서 yolov5를 사용해서 Object detection을 했던 것 처럼\n",
        "    4. 이번에는 우리가 만든 모델(파인튜닝한)을 이용해서 Object Detection을 한다.\n",
        "    "
      ],
      "metadata": {
        "id": "PdCxsIHT9jiS"
      }
    },
    {
      "cell_type": "markdown",
      "source": [
        "파인튜닝한 결과물이 저장된 (best.pt) 위치를 확인해서 폴더 위치를 지정해 주어야 한다"
      ],
      "metadata": {
        "id": "7hcceEg39-Yq"
      }
    },
    {
      "cell_type": "code",
      "source": [
        "!python detect.py --weights /content/yolov5/runs/train/pothole_result2/weights/best.pt --img 640 --conf 0.4 --source ./pothole/test/images"
      ],
      "metadata": {
        "id": "0u4A5yMs98eC"
      },
      "execution_count": null,
      "outputs": []
    },
    {
      "cell_type": "markdown",
      "source": [
        "결과물 확인"
      ],
      "metadata": {
        "id": "MGtnBIeX-rKy"
      }
    },
    {
      "cell_type": "code",
      "source": [
        "import glob\n",
        "import random\n",
        "from IPython.display import Image, display\n",
        "# 여기도 폴더 위치를 확인하세요\n",
        "image_name = random.choice(glob.glob('/content/yolov5/runs/detect/exp/*.jpg'))\n",
        "\n",
        "display(Image(filename=image_name))"
      ],
      "metadata": {
        "id": "iDwZox-x-s-h"
      },
      "execution_count": null,
      "outputs": []
    },
    {
      "cell_type": "markdown",
      "source": [
        "###모델을 파인튜닝해서 custom Model을 만드는 과정이 끝났습니다."
      ],
      "metadata": {
        "id": "NNc9yP68--L6"
      }
    },
    {
      "cell_type": "markdown",
      "source": [
        "# 애써 만든 best.pt를 어딘가에 저장해 둡니다.\n",
        "## 구글드라이브나 혹은 내 컴퓨터에 다운로드 하고 이름을 pothole20240429.pt 로 저장해 두고\n",
        "### 나중에 만들게되는 응용 프로그램에서 사용하게 됩니다."
      ],
      "metadata": {
        "id": "QxI5Mpnq_FR6"
      }
    },
    {
      "cell_type": "markdown",
      "source": [
        "1. 구글드라이브를 연결 한다면"
      ],
      "metadata": {
        "id": "DFaJQBHK_mP-"
      }
    },
    {
      "cell_type": "code",
      "source": [
        "from google.colab import drive\n",
        "drive.mount('/content/drive')\n"
      ],
      "metadata": {
        "id": "s8KrMBha_otT"
      },
      "execution_count": null,
      "outputs": []
    },
    {
      "cell_type": "code",
      "source": [
        "%mkdir /content/drive/MyDrive/pothole\n",
        "%cp /content/yolov5/runs/train/pothole_result/weights/best.pt /content/drive/MyDrive/pothole"
      ],
      "metadata": {
        "id": "MmdsUtiC_sUI"
      },
      "execution_count": null,
      "outputs": []
    },
    {
      "cell_type": "markdown",
      "source": [
        "2. 바로 다운로드 한다면"
      ],
      "metadata": {
        "id": "e-Wznej1_wVy"
      }
    },
    {
      "cell_type": "markdown",
      "source": [
        "![image.png](data:image/png;base64,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)"
      ],
      "metadata": {
        "id": "XMFg2CTy_6cK"
      }
    },
    {
      "cell_type": "markdown",
      "source": [],
      "metadata": {
        "id": "4OS9R2wO_8ei"
      }
    }
  ]
}